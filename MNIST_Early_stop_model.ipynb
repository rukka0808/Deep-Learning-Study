{
  "nbformat": 4,
  "nbformat_minor": 0,
  "metadata": {
    "colab": {
      "name": "MNIST_Early_stop_model.ipynb",
      "provenance": [],
      "collapsed_sections": [],
      "mount_file_id": "1UksuSELYoDFStNeDi6T9YrJ5U61PgHak",
      "authorship_tag": "ABX9TyP98i59vsplQWRfzrAxIrIy",
      "include_colab_link": true
    },
    "kernelspec": {
      "name": "python3",
      "display_name": "Python 3"
    },
    "language_info": {
      "name": "python"
    },
    "accelerator": "GPU"
  },
  "cells": [
    {
      "cell_type": "markdown",
      "metadata": {
        "id": "view-in-github",
        "colab_type": "text"
      },
      "source": [
        "<a href=\"https://colab.research.google.com/github/rukka0808/Deep-Learning-Study/blob/main/MNIST_Early_stop_model.ipynb\" target=\"_parent\"><img src=\"https://colab.research.google.com/assets/colab-badge.svg\" alt=\"Open In Colab\"/></a>"
      ]
    },
    {
      "cell_type": "code",
      "metadata": {
        "colab": {
          "base_uri": "https://localhost:8080/"
        },
        "id": "abwiKsIoOmgJ",
        "outputId": "a8b8767d-fa0b-48c8-b8b5-6737c66a971e"
      },
      "source": [
        "# TensorFlow and tf.keras\n",
        "import tensorflow as tf\n",
        "from tensorflow import keras\n",
        "# Helper libraries\n",
        "import numpy as np\n",
        "import matplotlib.pyplot as plt\n",
        "import math\n",
        "\n",
        "print(tf.__version__)"
      ],
      "execution_count": 1,
      "outputs": [
        {
          "output_type": "stream",
          "text": [
            "2.5.0\n"
          ],
          "name": "stdout"
        }
      ]
    },
    {
      "cell_type": "code",
      "metadata": {
        "id": "Ww2wmvT7Owp0"
      },
      "source": [
        "# Define Constants\n",
        "batch_size = 128\n",
        "epochs = 10000\n",
        "num_classes = 10"
      ],
      "execution_count": 2,
      "outputs": []
    },
    {
      "cell_type": "code",
      "metadata": {
        "id": "ftX8eJE3O5lL"
      },
      "source": [
        "# Download MNIST dataset.\n",
        "mnist = keras.datasets.mnist\n",
        "(train_images, train_labels), (test_images, test_labels) = mnist.load_data()"
      ],
      "execution_count": 3,
      "outputs": []
    },
    {
      "cell_type": "code",
      "metadata": {
        "id": "V7MVqTTkO7H_"
      },
      "source": [
        "#Normalize data between 0 to 1\n",
        "train_images = train_images / 255.0\n",
        "test_images = test_images / 255.0"
      ],
      "execution_count": 4,
      "outputs": []
    },
    {
      "cell_type": "code",
      "metadata": {
        "id": "dEKRlMdaPjto"
      },
      "source": [
        "model = keras.Sequential([\n",
        "                          keras.layers.Flatten(input_shape=(28,28)),\n",
        "                          keras.layers.Reshape(target_shape=(28, 28, 1)),\n",
        "                          keras.layers.Conv2D(filters=32, kernel_size=(3, 3), activation=tf.nn.relu),\n",
        "                          keras.layers.Conv2D(filters=64, kernel_size=(3, 3), activation=tf.nn.relu),\n",
        "                          keras.layers.MaxPooling2D(pool_size=(2, 2)),\n",
        "                          keras.layers.Dropout(0.25),\n",
        "                          keras.layers.Flatten(input_shape=(28, 28)),\n",
        "                          keras.layers.Dense(128, activation=tf.nn.relu),\n",
        "                          keras.layers.Dropout(0.5),\n",
        "                          keras.layers.Dense(num_classes, activation='softmax')\n",
        "])\n",
        "\n",
        "model.compile(optimizer='adam',\n",
        "              loss=tf.keras.losses.SparseCategoricalCrossentropy(from_logits=True),\n",
        "              metrics=['accuracy'])"
      ],
      "execution_count": 5,
      "outputs": []
    },
    {
      "cell_type": "code",
      "metadata": {
        "id": "YfjWnm0TQDsS"
      },
      "source": [
        "filepath = 'drive/MyDrive/data/digits_model.h5'\n",
        "modelCheckpoint = tf.keras.callbacks.ModelCheckpoint(filepath=filepath, save_best_only=True)"
      ],
      "execution_count": 6,
      "outputs": []
    },
    {
      "cell_type": "code",
      "metadata": {
        "id": "qKxpc0gxQ160"
      },
      "source": [
        "monitorEarlyStop = tf.keras.callbacks.EarlyStopping(monitor='val_loss', patience=5)"
      ],
      "execution_count": 7,
      "outputs": []
    },
    {
      "cell_type": "code",
      "metadata": {
        "colab": {
          "base_uri": "https://localhost:8080/"
        },
        "id": "5yekQPliQ6jo",
        "outputId": "2564ed27-bf04-407a-c722-4a375a912a66"
      },
      "source": [
        "history = model.fit(train_images, train_labels, \n",
        "                    validation_data=(test_images, test_labels),\n",
        "                    epochs=epochs, batch_size=batch_size,\n",
        "                    callbacks=[modelCheckpoint, monitorEarlyStop])"
      ],
      "execution_count": 8,
      "outputs": [
        {
          "output_type": "stream",
          "text": [
            "Epoch 1/10000\n"
          ],
          "name": "stdout"
        },
        {
          "output_type": "stream",
          "text": [
            "/usr/local/lib/python3.7/dist-packages/tensorflow/python/keras/backend.py:4930: UserWarning: \"`sparse_categorical_crossentropy` received `from_logits=True`, but the `output` argument was produced by a sigmoid or softmax activation and thus does not represent logits. Was this intended?\"\n",
            "  '\"`sparse_categorical_crossentropy` received `from_logits=True`, but '\n"
          ],
          "name": "stderr"
        },
        {
          "output_type": "stream",
          "text": [
            "469/469 [==============================] - 36s 15ms/step - loss: 0.2316 - accuracy: 0.9293 - val_loss: 0.0537 - val_accuracy: 0.9828\n",
            "Epoch 2/10000\n",
            "469/469 [==============================] - 7s 14ms/step - loss: 0.0809 - accuracy: 0.9763 - val_loss: 0.0379 - val_accuracy: 0.9871\n",
            "Epoch 3/10000\n",
            "469/469 [==============================] - 7s 14ms/step - loss: 0.0605 - accuracy: 0.9814 - val_loss: 0.0363 - val_accuracy: 0.9871\n",
            "Epoch 4/10000\n",
            "469/469 [==============================] - 7s 14ms/step - loss: 0.0499 - accuracy: 0.9848 - val_loss: 0.0321 - val_accuracy: 0.9890\n",
            "Epoch 5/10000\n",
            "469/469 [==============================] - 7s 15ms/step - loss: 0.0407 - accuracy: 0.9872 - val_loss: 0.0299 - val_accuracy: 0.9893\n",
            "Epoch 6/10000\n",
            "469/469 [==============================] - 7s 14ms/step - loss: 0.0363 - accuracy: 0.9880 - val_loss: 0.0278 - val_accuracy: 0.9909\n",
            "Epoch 7/10000\n",
            "469/469 [==============================] - 7s 14ms/step - loss: 0.0328 - accuracy: 0.9894 - val_loss: 0.0284 - val_accuracy: 0.9905\n",
            "Epoch 8/10000\n",
            "469/469 [==============================] - 7s 14ms/step - loss: 0.0299 - accuracy: 0.9902 - val_loss: 0.0274 - val_accuracy: 0.9913\n",
            "Epoch 9/10000\n",
            "469/469 [==============================] - 7s 15ms/step - loss: 0.0268 - accuracy: 0.9914 - val_loss: 0.0268 - val_accuracy: 0.9924\n",
            "Epoch 10/10000\n",
            "469/469 [==============================] - 7s 14ms/step - loss: 0.0235 - accuracy: 0.9922 - val_loss: 0.0266 - val_accuracy: 0.9917\n",
            "Epoch 11/10000\n",
            "469/469 [==============================] - 7s 14ms/step - loss: 0.0220 - accuracy: 0.9929 - val_loss: 0.0281 - val_accuracy: 0.9918\n",
            "Epoch 12/10000\n",
            "469/469 [==============================] - 7s 14ms/step - loss: 0.0202 - accuracy: 0.9934 - val_loss: 0.0294 - val_accuracy: 0.9923\n",
            "Epoch 13/10000\n",
            "469/469 [==============================] - 7s 14ms/step - loss: 0.0195 - accuracy: 0.9933 - val_loss: 0.0265 - val_accuracy: 0.9928\n",
            "Epoch 14/10000\n",
            "469/469 [==============================] - 7s 14ms/step - loss: 0.0158 - accuracy: 0.9948 - val_loss: 0.0284 - val_accuracy: 0.9917\n",
            "Epoch 15/10000\n",
            "469/469 [==============================] - 7s 14ms/step - loss: 0.0188 - accuracy: 0.9936 - val_loss: 0.0286 - val_accuracy: 0.9931\n",
            "Epoch 16/10000\n",
            "469/469 [==============================] - 7s 14ms/step - loss: 0.0159 - accuracy: 0.9943 - val_loss: 0.0282 - val_accuracy: 0.9923\n",
            "Epoch 17/10000\n",
            "469/469 [==============================] - 7s 14ms/step - loss: 0.0158 - accuracy: 0.9949 - val_loss: 0.0283 - val_accuracy: 0.9936\n",
            "Epoch 18/10000\n",
            "469/469 [==============================] - 7s 14ms/step - loss: 0.0126 - accuracy: 0.9958 - val_loss: 0.0284 - val_accuracy: 0.9930\n"
          ],
          "name": "stdout"
        }
      ]
    },
    {
      "cell_type": "code",
      "metadata": {
        "colab": {
          "base_uri": "https://localhost:8080/"
        },
        "id": "yfa1a3FqQ9IC",
        "outputId": "33030681-3c1f-421c-a444-c1dba561dc81"
      },
      "source": [
        "model.summary()"
      ],
      "execution_count": 9,
      "outputs": [
        {
          "output_type": "stream",
          "text": [
            "Model: \"sequential\"\n",
            "_________________________________________________________________\n",
            "Layer (type)                 Output Shape              Param #   \n",
            "=================================================================\n",
            "flatten (Flatten)            (None, 784)               0         \n",
            "_________________________________________________________________\n",
            "reshape (Reshape)            (None, 28, 28, 1)         0         \n",
            "_________________________________________________________________\n",
            "conv2d (Conv2D)              (None, 26, 26, 32)        320       \n",
            "_________________________________________________________________\n",
            "conv2d_1 (Conv2D)            (None, 24, 24, 64)        18496     \n",
            "_________________________________________________________________\n",
            "max_pooling2d (MaxPooling2D) (None, 12, 12, 64)        0         \n",
            "_________________________________________________________________\n",
            "dropout (Dropout)            (None, 12, 12, 64)        0         \n",
            "_________________________________________________________________\n",
            "flatten_1 (Flatten)          (None, 9216)              0         \n",
            "_________________________________________________________________\n",
            "dense (Dense)                (None, 128)               1179776   \n",
            "_________________________________________________________________\n",
            "dropout_1 (Dropout)          (None, 128)               0         \n",
            "_________________________________________________________________\n",
            "dense_1 (Dense)              (None, 10)                1290      \n",
            "=================================================================\n",
            "Total params: 1,199,882\n",
            "Trainable params: 1,199,882\n",
            "Non-trainable params: 0\n",
            "_________________________________________________________________\n"
          ],
          "name": "stdout"
        }
      ]
    },
    {
      "cell_type": "code",
      "metadata": {
        "id": "exI0LcYSTgCc"
      },
      "source": [
        "# Save Model\n",
        "savefile = 'drive/MyDrive/data/saved_digits.h5'\n",
        "model.save(savefile)"
      ],
      "execution_count": 11,
      "outputs": []
    },
    {
      "cell_type": "code",
      "metadata": {
        "id": "sqdei6h8TnzZ"
      },
      "source": [
        "load_model = tf.keras.models.load_model(savefile)"
      ],
      "execution_count": 12,
      "outputs": []
    },
    {
      "cell_type": "code",
      "metadata": {
        "colab": {
          "base_uri": "https://localhost:8080/"
        },
        "id": "3cvelZl2UBEB",
        "outputId": "b8a2f0d4-3571-4b34-a0cd-6b5dcfdb0f07"
      },
      "source": [
        "load_model.summary()"
      ],
      "execution_count": 13,
      "outputs": [
        {
          "output_type": "stream",
          "text": [
            "Model: \"sequential\"\n",
            "_________________________________________________________________\n",
            "Layer (type)                 Output Shape              Param #   \n",
            "=================================================================\n",
            "flatten (Flatten)            (None, 784)               0         \n",
            "_________________________________________________________________\n",
            "reshape (Reshape)            (None, 28, 28, 1)         0         \n",
            "_________________________________________________________________\n",
            "conv2d (Conv2D)              (None, 26, 26, 32)        320       \n",
            "_________________________________________________________________\n",
            "conv2d_1 (Conv2D)            (None, 24, 24, 64)        18496     \n",
            "_________________________________________________________________\n",
            "max_pooling2d (MaxPooling2D) (None, 12, 12, 64)        0         \n",
            "_________________________________________________________________\n",
            "dropout (Dropout)            (None, 12, 12, 64)        0         \n",
            "_________________________________________________________________\n",
            "flatten_1 (Flatten)          (None, 9216)              0         \n",
            "_________________________________________________________________\n",
            "dense (Dense)                (None, 128)               1179776   \n",
            "_________________________________________________________________\n",
            "dropout_1 (Dropout)          (None, 128)               0         \n",
            "_________________________________________________________________\n",
            "dense_1 (Dense)              (None, 10)                1290      \n",
            "=================================================================\n",
            "Total params: 1,199,882\n",
            "Trainable params: 1,199,882\n",
            "Non-trainable params: 0\n",
            "_________________________________________________________________\n"
          ],
          "name": "stdout"
        }
      ]
    },
    {
      "cell_type": "code",
      "metadata": {
        "colab": {
          "base_uri": "https://localhost:8080/"
        },
        "id": "asqwJj36UDqs",
        "outputId": "ab3b8841-4095-4956-9f98-5905ecb1e05f"
      },
      "source": [
        "test_loss, test_acc = load_model.evaluate(test_images, test_labels)\n",
        "print('Test Accuracy: ', test_acc)"
      ],
      "execution_count": 14,
      "outputs": [
        {
          "output_type": "stream",
          "text": [
            " 15/313 [>.............................] - ETA: 1s - loss: 0.0151 - accuracy: 0.9917      "
          ],
          "name": "stdout"
        },
        {
          "output_type": "stream",
          "text": [
            "/usr/local/lib/python3.7/dist-packages/tensorflow/python/keras/backend.py:4930: UserWarning: \"`sparse_categorical_crossentropy` received `from_logits=True`, but the `output` argument was produced by a sigmoid or softmax activation and thus does not represent logits. Was this intended?\"\n",
            "  '\"`sparse_categorical_crossentropy` received `from_logits=True`, but '\n"
          ],
          "name": "stderr"
        },
        {
          "output_type": "stream",
          "text": [
            "313/313 [==============================] - 1s 4ms/step - loss: 0.0284 - accuracy: 0.9930\n",
            "Test Accuracy:  0.9929999709129333\n"
          ],
          "name": "stdout"
        }
      ]
    },
    {
      "cell_type": "code",
      "metadata": {
        "colab": {
          "base_uri": "https://localhost:8080/",
          "height": 541
        },
        "id": "wnn6UKBPUTo4",
        "outputId": "6f009d27-03a1-4e87-af05-39bef3963ddf"
      },
      "source": [
        "fig, loss_ax = plt.subplots()\n",
        "fig, acc_ax = plt.subplots()\n",
        "\n",
        "loss_ax.plot(history.history['loss'], 'ro', label='train_loss')\n",
        "loss_ax.plot(history.history['val_loss'], 'r:', label='validation_loss')\n",
        "loss_ax.set_xlabel('epoch')\n",
        "loss_ax.set_ylabel('loss')\n",
        "loss_ax.legend(loc='upper left')\n",
        "\n",
        "acc_ax.plot(history.history['accuracy'], 'bo', label='train_accuracy')\n",
        "acc_ax.plot(history.history['val_accuracy'], 'b:', label='validation_accuracy')\n",
        "acc_ax.set_xlabel('epoch')\n",
        "acc_ax.set_ylabel('accuracy')\n",
        "\n",
        "acc_ax.legend(loc='upper left')\n",
        "\n",
        "plt.show()"
      ],
      "execution_count": 15,
      "outputs": [
        {
          "output_type": "display_data",
          "data": {
            "image/png": "[encoded data removed]",
            "text/plain": [
              "<Figure size 432x288 with 1 Axes>"
            ]
          },
          "metadata": {
            "tags": [],
            "needs_background": "light"
          }
        },
        {
          "output_type": "display_data",
          "data": {
            "image/png": "[encoded data removed]",
            "text/plain": [
              "<Figure size 432x288 with 1 Axes>"
            ]
          },
          "metadata": {
            "tags": [],
            "needs_background": "light"
          }
        }
      ]
    },
    {
      "cell_type": "code",
      "metadata": {
        "id": "H0L5H-yXUe-y"
      },
      "source": [
        ""
      ],
      "execution_count": null,
      "outputs": []
    }
  ]
}